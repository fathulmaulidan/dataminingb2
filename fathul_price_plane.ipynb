{
  "nbformat": 4,
  "nbformat_minor": 0,
  "metadata": {
    "colab": {
      "provenance": [],
      "authorship_tag": "ABX9TyM8HFPcVFUFev5r46qAr62X",
      "include_colab_link": true
    },
    "kernelspec": {
      "name": "python3",
      "display_name": "Python 3"
    },
    "language_info": {
      "name": "python"
    }
  },
  "cells": [
    {
      "cell_type": "markdown",
      "metadata": {
        "id": "view-in-github",
        "colab_type": "text"
      },
      "source": [
        "<a href=\"https://colab.research.google.com/github/fathulmaulidan/dataminingb2/blob/main/fathul_price_plane.ipynb\" target=\"_parent\"><img src=\"https://colab.research.google.com/assets/colab-badge.svg\" alt=\"Open In Colab\"/></a>"
      ]
    },
    {
      "cell_type": "markdown",
      "source": [
        "#CRISP-DM\n",
        "##analisis prediksi harga penerbangan pesawat\n"
      ],
      "metadata": {
        "id": "4f9nuRJXQKYD"
      }
    },
    {
      "cell_type": "markdown",
      "source": [
        "##BUSINESS UNDERSTANDING\n"
      ],
      "metadata": {
        "id": "Eb2OCMuuQzb9"
      }
    },
    {
      "cell_type": "markdown",
      "source": [
        "*   business objective\n",
        "\n",
        "    tujuan bisnis dari dataset ini adalah pihak maskapai dapat dengan mudah  menentukan sebuah  harga penerbangan pesawat berdasarkan kemampuan pesawat yang tertera pada dataset, selain itu pihak maskapai dapat mengetahui kelebihan serta kekurangan dari sebuah pesawat tersebut\n",
        "\n",
        "*    assess situation\n",
        "\n",
        "    situasi bisnis yang mendasari analisis ini adalah kebingungan pihak maskapai dalam menentukan sebuah harga tiket pesawat karena tidak mengetahui kelebihan dan kekurangan dari setiap pesawat yang ada\n",
        "*   data mining goals\n",
        "\n",
        "    tujuan dari data mining dataset ini adalah pihak maskapai bisa memprediksi harga tiket pesawat berdasarkan kelebihan dan kekurangan yang dimiliki sebuah pesawat, serta dapat mengetahui profil lengkap pesawat terbang tesebut\n",
        "\n",
        "*   project plan\n",
        "\n",
        "    rencana dari proyek ini ialah menganalisis segala faktor yang berkaitan dengan profil pesawat berdasarkan dataset yang ada. selanjutnya, dapat menjelaskan dengan rinci kelebihan dan kekurangan dari sebuah pesawat yang akan menjadi faktor dari menentukan harga dari sebuah pesawat. serta mengeksplosrasi dan mencari ketersinmbungan dari setiap data dan variabel yangg tersedia pada dataset\n",
        "\n"
      ],
      "metadata": {
        "id": "W1nTDqZMRCp2"
      }
    },
    {
      "cell_type": "markdown",
      "source": [],
      "metadata": {
        "id": "e7d9f7GfQhdF"
      }
    }
  ]
}